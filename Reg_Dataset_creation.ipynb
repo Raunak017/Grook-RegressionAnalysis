{
 "cells": [
  {
   "cell_type": "code",
   "execution_count": 1,
   "metadata": {},
   "outputs": [],
   "source": [
    "import pandas as pd\n",
    "import numpy as np\n",
    "import random\n",
    "import warnings\n",
    "warnings.filterwarnings('ignore')"
   ]
  },
  {
   "cell_type": "code",
   "execution_count": 2,
   "metadata": {},
   "outputs": [],
   "source": [
    "def randomNumber(x,y):\n",
    "    return random.randint(x,y)\n",
    "def randomDate(x):\n",
    "    return random.randint(5,x)\n",
    "def randomYear(x):\n",
    "    return random.randint(1,x)\n",
    "def randomColor():\n",
    "    r = lambda: random.randint(0,255)\n",
    "    return ('#%02X%02X%02X' % (r(),r(),r()))\n",
    "def randomDateCust():\n",
    "    return random.randint(1,2)"
   ]
  },
  {
   "cell_type": "code",
   "execution_count": 23,
   "metadata": {},
   "outputs": [],
   "source": [
    "# for ground owners\n",
    "#(date-pk,year(not required),day, month, week number , groundName, timeslot chosen , sport chosen ) --> cost spent\n",
    "\n",
    "years = ['2012','2013','2014','2015','2016','2017','2018','2019','2020','2021']\n",
    "\n",
    "days = ['Monday','Tuesday','Wednesday','Thursday','Friday','Saturday','Sunday']\n",
    "\n",
    "groundNames = ['Ground1','Ground2','Ground3','Ground4']\n",
    "\n",
    "months = ['January','February','March','April','May','June','July','August','September','October','November','December']\n",
    "\n",
    "winter_months = ['October','November','December','January']\n",
    "\n",
    "spring_months = ['February','March']\n",
    "\n",
    "summer_months = ['April','May','June','July']\n",
    "\n",
    "monsoon_months = ['August','September']\n",
    "\n",
    "sports = ['sport1','sport2','sport3','sport4','sport5','sport6']\n",
    "\n",
    "#for ground 1 : \n",
    "g1_prices = {'sport1':50,'sport2':70,'sport3':90,'sport4':60,'sport5':95,'sport6':55}\n",
    "\n",
    "\n",
    "data = [] \n",
    "for i in range(0,10):  \n",
    "    for g in range(0,4):\n",
    "        for j in range(0,12):\n",
    "            tMonth=months[j]\n",
    "            for k in range(1,31):\n",
    "                \n",
    "                if tMonth in winter_months:\n",
    "                    tot_cust =  randomNumber(7,15)\n",
    "\n",
    "                elif tMonth in spring_months:\n",
    "                    tot_cust =  randomNumber(15,20)\n",
    "\n",
    "                elif tMonth in summer_months:\n",
    "                    tot_cust =  randomNumber(20,30)\n",
    "\n",
    "                elif tMonth in monsoon_months:\n",
    "                    tot_cust =  randomNumber(0,7)\n",
    "\n",
    "                tot_cost=0\n",
    "                tYear = years[i];\n",
    "\n",
    "                tDay= days[k%7]\n",
    "                tTimeSlot=\"\"\n",
    "                tSport=\"\"\n",
    "                tDate = k\n",
    "\n",
    "                for j in range(1,tot_cust):    \n",
    "                    tTimeSlot = timeslots[randomNumber(0,len(timeslots)-1)]\n",
    "                    tSport = sports[randomNumber(0,len(sports)-1)]\n",
    "\n",
    "\n",
    "                    tCost = g1_prices[tSport]\n",
    "                    tot_cost+=tCost\n",
    "                    \n",
    "                data.append([tDate,tYear,tDay,tMonth,groundNames[g],tot_cost,tot_cust])\n",
    "\n",
    "\n",
    "groundOwners_df = pd.DataFrame(data, columns = ['Date','Year', 'Day','Month','GroundName','Cost','TotalCustomers'])"
   ]
  },
  {
   "cell_type": "code",
   "execution_count": 24,
   "metadata": {},
   "outputs": [],
   "source": [
    "groundOwners_df.to_csv('regression_dataset.csv', index = False, encoding='utf-8')"
   ]
  },
  {
   "cell_type": "code",
   "execution_count": null,
   "metadata": {},
   "outputs": [],
   "source": []
  }
 ],
 "metadata": {
  "kernelspec": {
   "display_name": "Python 3 (ipykernel)",
   "language": "python",
   "name": "python3"
  },
  "language_info": {
   "codemirror_mode": {
    "name": "ipython",
    "version": 3
   },
   "file_extension": ".py",
   "mimetype": "text/x-python",
   "name": "python",
   "nbconvert_exporter": "python",
   "pygments_lexer": "ipython3",
   "version": "3.9.12"
  }
 },
 "nbformat": 4,
 "nbformat_minor": 4
}
